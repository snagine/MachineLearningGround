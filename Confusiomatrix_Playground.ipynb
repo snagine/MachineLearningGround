{
  "nbformat": 4,
  "nbformat_minor": 0,
  "metadata": {
    "colab": {
      "provenance": []
    },
    "kernelspec": {
      "name": "python3",
      "display_name": "Python 3"
    },
    "language_info": {
      "name": "python"
    }
  },
  "cells": [
    {
      "cell_type": "code",
      "execution_count": 43,
      "metadata": {
        "id": "qCi3C4qJuEQG"
      },
      "outputs": [],
      "source": [
        "import seaborn as sns\n",
        "import matplotlib.pyplot as plt\n",
        "import sklearn\n",
        "from sklearn.metrics import confusion_matrix, classification_report\n",
        "import numpy as np\n",
        "import pandas as pd"
      ]
    },
    {
      "cell_type": "code",
      "source": [
        "predicted = np.array(['rose','rose','lily','rose','lily','rose','rose','rose','rose'])\n",
        "actual = np.array(['rose','rose','lily','lily','rose','rose','rose','rose','lily'])\n",
        "\n",
        "TP = ((predicted == 'rose') & (actual == 'rose')).sum()\n",
        "FP = ((predicted == 'rose') & (actual == 'lily')).sum()\n",
        "FN = ((predicted == 'lily') & (actual == 'rose')).sum()\n",
        "TN = ((predicted == 'lily') & (actual == 'lily')).sum()\n",
        "\n",
        "print(f'TP: {TP}, FP: {FP}, FN: {FN}, TN: {TN}')"
      ],
      "metadata": {
        "colab": {
          "base_uri": "https://localhost:8080/"
        },
        "id": "vytcAdZeuL7F",
        "outputId": "23045e15-bf17-4de9-a1d2-0e9fa0915490"
      },
      "execution_count": 33,
      "outputs": [
        {
          "output_type": "stream",
          "name": "stdout",
          "text": [
            "TP: 5, FP: 2, FN: 1, TN: 1\n"
          ]
        }
      ]
    },
    {
      "cell_type": "code",
      "source": [
        "accuracy_score = (TP + TN) / (TP + FP + FN + TN)\n",
        "accuracy_score"
      ],
      "metadata": {
        "colab": {
          "base_uri": "https://localhost:8080/"
        },
        "id": "aWEzg6LxwkGb",
        "outputId": "a2353b74-781b-4c3d-8f45-0585779ea42c"
      },
      "execution_count": 34,
      "outputs": [
        {
          "output_type": "execute_result",
          "data": {
            "text/plain": [
              "0.6666666666666666"
            ]
          },
          "metadata": {},
          "execution_count": 34
        }
      ]
    },
    {
      "cell_type": "code",
      "source": [
        "precision_score = TP / (TP + FP)\n",
        "precision_score"
      ],
      "metadata": {
        "colab": {
          "base_uri": "https://localhost:8080/"
        },
        "id": "beclj2IAxIj1",
        "outputId": "047814ee-73b8-43d5-ad71-02115bc4374f"
      },
      "execution_count": 35,
      "outputs": [
        {
          "output_type": "execute_result",
          "data": {
            "text/plain": [
              "0.7142857142857143"
            ]
          },
          "metadata": {},
          "execution_count": 35
        }
      ]
    },
    {
      "cell_type": "code",
      "source": [
        "recall_score = TP / (TP + FN)\n",
        "recall_score"
      ],
      "metadata": {
        "colab": {
          "base_uri": "https://localhost:8080/"
        },
        "id": "KgmgGOD4xRmc",
        "outputId": "25efcf00-5966-41e8-86af-d42be9dda6de"
      },
      "execution_count": 36,
      "outputs": [
        {
          "output_type": "execute_result",
          "data": {
            "text/plain": [
              "0.8333333333333334"
            ]
          },
          "metadata": {},
          "execution_count": 36
        }
      ]
    },
    {
      "cell_type": "code",
      "source": [
        "f1_score = 2 * (precision_score * recall_score) / (precision_score + recall_score)\n",
        "f1_score"
      ],
      "metadata": {
        "colab": {
          "base_uri": "https://localhost:8080/"
        },
        "id": "rvjDGSdYzKP3",
        "outputId": "af73672c-1314-49b5-8a9f-9989dc1e818d"
      },
      "execution_count": 37,
      "outputs": [
        {
          "output_type": "execute_result",
          "data": {
            "text/plain": [
              "0.7692307692307692"
            ]
          },
          "metadata": {},
          "execution_count": 37
        }
      ]
    },
    {
      "cell_type": "code",
      "source": [
        "cm = confusion_matrix(actual, predicted)"
      ],
      "metadata": {
        "id": "SgfljbJbzZ2K"
      },
      "execution_count": 40,
      "outputs": []
    },
    {
      "cell_type": "code",
      "source": [
        "sns.heatmap(cm, annot=True, xticklabels=['rose','lily'],yticklabels=['rose','lily'])\n",
        "plt.xlabel('Predicted')\n",
        "plt.ylabel('Actual')\n",
        "plt.title('Confusion Matrix')\n",
        "plt.show()"
      ],
      "metadata": {
        "colab": {
          "base_uri": "https://localhost:8080/",
          "height": 472
        },
        "id": "DOS6P_Rvzdso",
        "outputId": "2b61279f-ef79-4f39-c1d3-b2da24a2787d"
      },
      "execution_count": 46,
      "outputs": [
        {
          "output_type": "display_data",
          "data": {
            "text/plain": [
              "<Figure size 640x480 with 2 Axes>"
            ],
            "image/png": "[encoded data removed]"
          },
          "metadata": {}
        }
      ]
    },
    {
      "cell_type": "code",
      "source": [
        "print(classification_report(actual, predicted))"
      ],
      "metadata": {
        "colab": {
          "base_uri": "https://localhost:8080/"
        },
        "id": "q39FQ59X0ae_",
        "outputId": "4be3c34d-5d02-4a0c-d0db-813ceea249df"
      },
      "execution_count": 45,
      "outputs": [
        {
          "output_type": "stream",
          "name": "stdout",
          "text": [
            "              precision    recall  f1-score   support\n",
            "\n",
            "        lily       0.50      0.33      0.40         3\n",
            "        rose       0.71      0.83      0.77         6\n",
            "\n",
            "    accuracy                           0.67         9\n",
            "   macro avg       0.61      0.58      0.58         9\n",
            "weighted avg       0.64      0.67      0.65         9\n",
            "\n"
          ]
        }
      ]
    }
  ]
}